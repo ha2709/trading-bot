{
 "cells": [
  {
   "cell_type": "markdown",
   "metadata": {},
   "source": [
    "### 1 - Import test data"
   ]
  },
  {
   "cell_type": "code",
   "execution_count": 1,
   "metadata": {},
   "outputs": [
    {
     "name": "stdout",
     "output_type": "stream",
     "text": [
      "Requirement already satisfied: yfinance in /usr/local/lib/python3.10/dist-packages (0.2.31)\n",
      "Requirement already satisfied: pandas>=1.3.0 in /usr/local/lib/python3.10/dist-packages (from yfinance) (2.1.2)\n",
      "Requirement already satisfied: numpy>=1.16.5 in /usr/local/lib/python3.10/dist-packages (from yfinance) (1.26.1)\n",
      "Requirement already satisfied: requests>=2.31 in /usr/local/lib/python3.10/dist-packages (from yfinance) (2.31.0)\n",
      "Requirement already satisfied: multitasking>=0.0.7 in /usr/local/lib/python3.10/dist-packages (from yfinance) (0.0.11)\n",
      "Requirement already satisfied: lxml>=4.9.1 in /usr/local/lib/python3.10/dist-packages (from yfinance) (4.9.3)\n",
      "Requirement already satisfied: appdirs>=1.4.4 in /usr/local/lib/python3.10/dist-packages (from yfinance) (1.4.4)\n",
      "Requirement already satisfied: pytz>=2022.5 in /usr/local/lib/python3.10/dist-packages (from yfinance) (2023.3.post1)\n",
      "Requirement already satisfied: frozendict>=2.3.4 in /usr/local/lib/python3.10/dist-packages (from yfinance) (2.3.8)\n",
      "Requirement already satisfied: peewee>=3.16.2 in /usr/local/lib/python3.10/dist-packages (from yfinance) (3.17.0)\n",
      "Requirement already satisfied: beautifulsoup4>=4.11.1 in /usr/local/lib/python3.10/dist-packages (from yfinance) (4.12.2)\n",
      "Requirement already satisfied: html5lib>=1.1 in /usr/local/lib/python3.10/dist-packages (from yfinance) (1.1)\n",
      "Requirement already satisfied: soupsieve>1.2 in /usr/local/lib/python3.10/dist-packages (from beautifulsoup4>=4.11.1->yfinance) (2.5)\n",
      "Requirement already satisfied: six>=1.9 in /usr/lib/python3/dist-packages (from html5lib>=1.1->yfinance) (1.16.0)\n",
      "Requirement already satisfied: webencodings in /usr/local/lib/python3.10/dist-packages (from html5lib>=1.1->yfinance) (0.5.1)\n",
      "Requirement already satisfied: python-dateutil>=2.8.2 in /usr/local/lib/python3.10/dist-packages (from pandas>=1.3.0->yfinance) (2.8.2)\n",
      "Requirement already satisfied: tzdata>=2022.1 in /usr/local/lib/python3.10/dist-packages (from pandas>=1.3.0->yfinance) (2023.3)\n",
      "Requirement already satisfied: charset-normalizer<4,>=2 in /usr/local/lib/python3.10/dist-packages (from requests>=2.31->yfinance) (3.3.2)\n",
      "Requirement already satisfied: idna<4,>=2.5 in /usr/lib/python3/dist-packages (from requests>=2.31->yfinance) (3.3)\n",
      "Requirement already satisfied: urllib3<3,>=1.21.1 in /usr/lib/python3/dist-packages (from requests>=2.31->yfinance) (1.26.5)\n",
      "Requirement already satisfied: certifi>=2017.4.17 in /usr/lib/python3/dist-packages (from requests>=2.31->yfinance) (2020.6.20)\n",
      "\u001b[33mWARNING: Running pip as the 'root' user can result in broken permissions and conflicting behaviour with the system package manager. It is recommended to use a virtual environment instead: https://pip.pypa.io/warnings/venv\u001b[0m\u001b[33m\n",
      "\u001b[0mRequirement already satisfied: pandas in /usr/local/lib/python3.10/dist-packages (2.1.2)\n",
      "Requirement already satisfied: numpy<2,>=1.22.4 in /usr/local/lib/python3.10/dist-packages (from pandas) (1.26.1)\n",
      "Requirement already satisfied: python-dateutil>=2.8.2 in /usr/local/lib/python3.10/dist-packages (from pandas) (2.8.2)\n",
      "Requirement already satisfied: pytz>=2020.1 in /usr/local/lib/python3.10/dist-packages (from pandas) (2023.3.post1)\n",
      "Requirement already satisfied: tzdata>=2022.1 in /usr/local/lib/python3.10/dist-packages (from pandas) (2023.3)\n",
      "Requirement already satisfied: six>=1.5 in /usr/lib/python3/dist-packages (from python-dateutil>=2.8.2->pandas) (1.16.0)\n",
      "\u001b[33mWARNING: Running pip as the 'root' user can result in broken permissions and conflicting behaviour with the system package manager. It is recommended to use a virtual environment instead: https://pip.pypa.io/warnings/venv\u001b[0m\u001b[33m\n",
      "\u001b[0m"
     ]
    }
   ],
   "source": [
    "!pip3 install yfinance\n",
    "!pip3 install pandas\n"
   ]
  },
  {
   "cell_type": "code",
   "execution_count": 8,
   "metadata": {},
   "outputs": [
    {
     "name": "stdout",
     "output_type": "stream",
     "text": [
      "[*********************100%%**********************]  1 of 1 completed\n"
     ]
    },
    {
     "data": {
      "text/html": [
       "<div>\n",
       "<style scoped>\n",
       "    .dataframe tbody tr th:only-of-type {\n",
       "        vertical-align: middle;\n",
       "    }\n",
       "\n",
       "    .dataframe tbody tr th {\n",
       "        vertical-align: top;\n",
       "    }\n",
       "\n",
       "    .dataframe thead th {\n",
       "        text-align: right;\n",
       "    }\n",
       "</style>\n",
       "<table border=\"1\" class=\"dataframe\">\n",
       "  <thead>\n",
       "    <tr style=\"text-align: right;\">\n",
       "      <th></th>\n",
       "      <th>Open</th>\n",
       "      <th>High</th>\n",
       "      <th>Low</th>\n",
       "      <th>Close</th>\n",
       "      <th>Volume</th>\n",
       "    </tr>\n",
       "    <tr>\n",
       "      <th>Datetime</th>\n",
       "      <th></th>\n",
       "      <th></th>\n",
       "      <th></th>\n",
       "      <th></th>\n",
       "      <th></th>\n",
       "    </tr>\n",
       "  </thead>\n",
       "  <tbody>\n",
       "    <tr>\n",
       "      <th>2023-10-26 00:00:00</th>\n",
       "      <td>1.056859</td>\n",
       "      <td>1.056859</td>\n",
       "      <td>1.056747</td>\n",
       "      <td>1.056747</td>\n",
       "      <td>0</td>\n",
       "    </tr>\n",
       "    <tr>\n",
       "      <th>2023-10-26 00:15:00</th>\n",
       "      <td>1.056747</td>\n",
       "      <td>1.056747</td>\n",
       "      <td>1.056301</td>\n",
       "      <td>1.056524</td>\n",
       "      <td>0</td>\n",
       "    </tr>\n",
       "    <tr>\n",
       "      <th>2023-10-26 00:30:00</th>\n",
       "      <td>1.056524</td>\n",
       "      <td>1.056747</td>\n",
       "      <td>1.056524</td>\n",
       "      <td>1.056636</td>\n",
       "      <td>0</td>\n",
       "    </tr>\n",
       "    <tr>\n",
       "      <th>2023-10-26 00:45:00</th>\n",
       "      <td>1.056636</td>\n",
       "      <td>1.056971</td>\n",
       "      <td>1.056636</td>\n",
       "      <td>1.056859</td>\n",
       "      <td>0</td>\n",
       "    </tr>\n",
       "    <tr>\n",
       "      <th>2023-10-26 01:00:00</th>\n",
       "      <td>1.056971</td>\n",
       "      <td>1.057194</td>\n",
       "      <td>1.056859</td>\n",
       "      <td>1.056971</td>\n",
       "      <td>0</td>\n",
       "    </tr>\n",
       "    <tr>\n",
       "      <th>...</th>\n",
       "      <td>...</td>\n",
       "      <td>...</td>\n",
       "      <td>...</td>\n",
       "      <td>...</td>\n",
       "      <td>...</td>\n",
       "    </tr>\n",
       "    <tr>\n",
       "      <th>2023-11-03 20:15:00</th>\n",
       "      <td>1.073076</td>\n",
       "      <td>1.073307</td>\n",
       "      <td>1.072961</td>\n",
       "      <td>1.073307</td>\n",
       "      <td>0</td>\n",
       "    </tr>\n",
       "    <tr>\n",
       "      <th>2023-11-03 20:30:00</th>\n",
       "      <td>1.073422</td>\n",
       "      <td>1.073537</td>\n",
       "      <td>1.073422</td>\n",
       "      <td>1.073422</td>\n",
       "      <td>0</td>\n",
       "    </tr>\n",
       "    <tr>\n",
       "      <th>2023-11-03 20:45:00</th>\n",
       "      <td>1.073422</td>\n",
       "      <td>1.073422</td>\n",
       "      <td>1.073076</td>\n",
       "      <td>1.073307</td>\n",
       "      <td>0</td>\n",
       "    </tr>\n",
       "    <tr>\n",
       "      <th>2023-11-03 21:00:00</th>\n",
       "      <td>1.073192</td>\n",
       "      <td>1.073192</td>\n",
       "      <td>1.073192</td>\n",
       "      <td>1.073192</td>\n",
       "      <td>0</td>\n",
       "    </tr>\n",
       "    <tr>\n",
       "      <th>2023-11-03 21:15:00</th>\n",
       "      <td>1.073192</td>\n",
       "      <td>1.073192</td>\n",
       "      <td>1.072961</td>\n",
       "      <td>1.072961</td>\n",
       "      <td>0</td>\n",
       "    </tr>\n",
       "  </tbody>\n",
       "</table>\n",
       "<p>656 rows × 5 columns</p>\n",
       "</div>"
      ],
      "text/plain": [
       "                         Open      High       Low     Close  Volume\n",
       "Datetime                                                           \n",
       "2023-10-26 00:00:00  1.056859  1.056859  1.056747  1.056747       0\n",
       "2023-10-26 00:15:00  1.056747  1.056747  1.056301  1.056524       0\n",
       "2023-10-26 00:30:00  1.056524  1.056747  1.056524  1.056636       0\n",
       "2023-10-26 00:45:00  1.056636  1.056971  1.056636  1.056859       0\n",
       "2023-10-26 01:00:00  1.056971  1.057194  1.056859  1.056971       0\n",
       "...                       ...       ...       ...       ...     ...\n",
       "2023-11-03 20:15:00  1.073076  1.073307  1.072961  1.073307       0\n",
       "2023-11-03 20:30:00  1.073422  1.073537  1.073422  1.073422       0\n",
       "2023-11-03 20:45:00  1.073422  1.073422  1.073076  1.073307       0\n",
       "2023-11-03 21:00:00  1.073192  1.073192  1.073192  1.073192       0\n",
       "2023-11-03 21:15:00  1.073192  1.073192  1.072961  1.072961       0\n",
       "\n",
       "[656 rows x 5 columns]"
      ]
     },
     "execution_count": 8,
     "metadata": {},
     "output_type": "execute_result"
    }
   ],
   "source": [
    "import yfinance as yf\n",
    "import pandas as pd\n",
    "\n",
    "dataF = yf.download(\"EURUSD=X\",  period = \"7d\",\n",
    " interval='15m',  auto_adjust = True,  prepost = False,)\n",
    "dataF.iloc[:,:]\n",
    "#dataF.Open.iloc"
   ]
  },
  {
   "cell_type": "markdown",
   "metadata": {},
   "source": [
    "### 2 - Define your signal function"
   ]
  },
  {
   "cell_type": "code",
   "execution_count": 9,
   "metadata": {},
   "outputs": [],
   "source": [
    "def signal_generator(df):\n",
    "    open = df.Open.iloc[-1]\n",
    "    close = df.Close.iloc[-1]\n",
    "    previous_open = df.Open.iloc[-2]\n",
    "    previous_close = df.Close.iloc[-2]\n",
    "    \n",
    "    # Bearish Pattern\n",
    "    if (open>close and \n",
    "    previous_open<previous_close and \n",
    "    close<previous_open and\n",
    "    open>=previous_close):\n",
    "        return 1\n",
    "\n",
    "    # Bullish Pattern\n",
    "    elif (open<close and \n",
    "        previous_open>previous_close and \n",
    "        close>previous_open and\n",
    "        open<=previous_close):\n",
    "        return 2\n",
    "    \n",
    "    # No clear pattern\n",
    "    else:\n",
    "        return 0\n",
    "\n",
    "signal = []\n",
    "signal.append(0)\n",
    "for i in range(1,len(dataF)):\n",
    "    df = dataF[i-1:i+1]\n",
    "    signal.append(signal_generator(df))\n",
    "#signal_generator(data)\n",
    "dataF[\"signal\"] = signal"
   ]
  },
  {
   "cell_type": "code",
   "execution_count": 11,
   "metadata": {},
   "outputs": [
    {
     "data": {
      "text/plain": [
       "signal\n",
       "0    598\n",
       "1     32\n",
       "2     26\n",
       "Name: count, dtype: int64"
      ]
     },
     "execution_count": 11,
     "metadata": {},
     "output_type": "execute_result"
    }
   ],
   "source": [
    "dataF.signal.value_counts()\n",
    "#dataF.iloc[:, :]"
   ]
  },
  {
   "cell_type": "markdown",
   "metadata": {},
   "source": [
    "### 3 - Connect to the market and execute trades"
   ]
  },
  {
   "cell_type": "code",
   "execution_count": 12,
   "metadata": {},
   "outputs": [
    {
     "name": "stdout",
     "output_type": "stream",
     "text": [
      "Requirement already satisfied: apscheduler in /usr/local/lib/python3.10/dist-packages (3.10.4)\n",
      "Requirement already satisfied: six>=1.4.0 in /usr/lib/python3/dist-packages (from apscheduler) (1.16.0)\n",
      "Requirement already satisfied: pytz in /usr/local/lib/python3.10/dist-packages (from apscheduler) (2023.3.post1)\n",
      "Requirement already satisfied: tzlocal!=3.*,>=2.0 in /usr/local/lib/python3.10/dist-packages (from apscheduler) (5.2)\n",
      "\u001b[33mWARNING: Running pip as the 'root' user can result in broken permissions and conflicting behaviour with the system package manager. It is recommended to use a virtual environment instead: https://pip.pypa.io/warnings/venv\u001b[0m\u001b[33m\n",
      "\u001b[0mRequirement already satisfied: oandapyV20 in /usr/local/lib/python3.10/dist-packages (0.6.3)\n",
      "\u001b[33mWARNING: Running pip as the 'root' user can result in broken permissions and conflicting behaviour with the system package manager. It is recommended to use a virtual environment instead: https://pip.pypa.io/warnings/venv\u001b[0m\u001b[33m\n",
      "\u001b[0mRequirement already satisfied: oanda_candles in /usr/local/lib/python3.10/dist-packages (0.1.0)\n",
      "Requirement already satisfied: forex-types<0.0.7,>=0.0.6 in /usr/local/lib/python3.10/dist-packages (from oanda_candles) (0.0.6)\n",
      "Requirement already satisfied: magic-kind<0.3.0,>=0.2.2 in /usr/local/lib/python3.10/dist-packages (from oanda_candles) (0.2.2)\n",
      "Requirement already satisfied: oandapyV20<0.7.0,>=0.6.3 in /usr/local/lib/python3.10/dist-packages (from oanda_candles) (0.6.3)\n",
      "Requirement already satisfied: requests<3.0.0,>=2.23.0 in /usr/local/lib/python3.10/dist-packages (from oanda_candles) (2.31.0)\n",
      "Requirement already satisfied: time-int<0.0.10,>=0.0.9 in /usr/local/lib/python3.10/dist-packages (from oanda_candles) (0.0.9)\n",
      "Requirement already satisfied: charset-normalizer<4,>=2 in /usr/local/lib/python3.10/dist-packages (from requests<3.0.0,>=2.23.0->oanda_candles) (3.3.2)\n",
      "Requirement already satisfied: idna<4,>=2.5 in /usr/lib/python3/dist-packages (from requests<3.0.0,>=2.23.0->oanda_candles) (3.3)\n",
      "Requirement already satisfied: urllib3<3,>=1.21.1 in /usr/lib/python3/dist-packages (from requests<3.0.0,>=2.23.0->oanda_candles) (1.26.5)\n",
      "Requirement already satisfied: certifi>=2017.4.17 in /usr/lib/python3/dist-packages (from requests<3.0.0,>=2.23.0->oanda_candles) (2020.6.20)\n",
      "Requirement already satisfied: pytest<6.0.0,>=5.4.2 in /usr/local/lib/python3.10/dist-packages (from time-int<0.0.10,>=0.0.9->oanda_candles) (5.4.3)\n",
      "Requirement already satisfied: py>=1.5.0 in /usr/local/lib/python3.10/dist-packages (from pytest<6.0.0,>=5.4.2->time-int<0.0.10,>=0.0.9->oanda_candles) (1.11.0)\n",
      "Requirement already satisfied: packaging in /usr/local/lib/python3.10/dist-packages (from pytest<6.0.0,>=5.4.2->time-int<0.0.10,>=0.0.9->oanda_candles) (23.2)\n",
      "Requirement already satisfied: attrs>=17.4.0 in /usr/local/lib/python3.10/dist-packages (from pytest<6.0.0,>=5.4.2->time-int<0.0.10,>=0.0.9->oanda_candles) (23.1.0)\n",
      "Requirement already satisfied: more-itertools>=4.0.0 in /usr/lib/python3/dist-packages (from pytest<6.0.0,>=5.4.2->time-int<0.0.10,>=0.0.9->oanda_candles) (8.10.0)\n",
      "Requirement already satisfied: pluggy<1.0,>=0.12 in /usr/local/lib/python3.10/dist-packages (from pytest<6.0.0,>=5.4.2->time-int<0.0.10,>=0.0.9->oanda_candles) (0.13.1)\n",
      "Requirement already satisfied: wcwidth in /usr/local/lib/python3.10/dist-packages (from pytest<6.0.0,>=5.4.2->time-int<0.0.10,>=0.0.9->oanda_candles) (0.2.9)\n",
      "\u001b[33mWARNING: Running pip as the 'root' user can result in broken permissions and conflicting behaviour with the system package manager. It is recommended to use a virtual environment instead: https://pip.pypa.io/warnings/venv\u001b[0m\u001b[33m\n",
      "\u001b[0m"
     ]
    }
   ],
   "source": [
    "!pip3 install apscheduler\n",
    "!pip3 install oandapyV20\n",
    "!pip3 install oanda_candles"
   ]
  },
  {
   "cell_type": "code",
   "execution_count": 13,
   "metadata": {},
   "outputs": [],
   "source": [
    "from apscheduler.schedulers.blocking import BlockingScheduler\n",
    "from oandapyV20 import API\n",
    "import oandapyV20.endpoints.orders as orders\n",
    "from oandapyV20.contrib.requests import MarketOrderRequest\n",
    "from oanda_candles import Pair, Gran, CandleClient\n",
    "from oandapyV20.contrib.requests import TakeProfitDetails, StopLossDetails"
   ]
  },
  {
   "cell_type": "code",
   "execution_count": 19,
   "metadata": {},
   "outputs": [
    {
     "ename": "HTTPError",
     "evalue": "401 Client Error: Unauthorized for url: https://api-fxpractice.oanda.com/v3/instruments/EUR_USD/candles?alignmentTimezone=Etc%2FGMT%2B1&dailyAlignment=23&granularity=M15&price=BAM&weeklyAlignment=Sunday&count=3",
     "output_type": "error",
     "traceback": [
      "\u001b[0;31m---------------------------------------------------------------------------\u001b[0m",
      "\u001b[0;31mHTTPError\u001b[0m                                 Traceback (most recent call last)",
      "\u001b[1;32m/home/ha/Downloads/programs/jupyter/TradingBotOanda.ipynb Cell 10\u001b[0m line \u001b[0;36m9\n\u001b[1;32m      <a href='vscode-notebook-cell:/home/ha/Downloads/programs/jupyter/TradingBotOanda.ipynb#X12sZmlsZQ%3D%3D?line=5'>6</a>\u001b[0m     candles \u001b[39m=\u001b[39m collector\u001b[39m.\u001b[39mgrab(n)\n\u001b[1;32m      <a href='vscode-notebook-cell:/home/ha/Downloads/programs/jupyter/TradingBotOanda.ipynb#X12sZmlsZQ%3D%3D?line=6'>7</a>\u001b[0m     \u001b[39mreturn\u001b[39;00m candles\n\u001b[0;32m----> <a href='vscode-notebook-cell:/home/ha/Downloads/programs/jupyter/TradingBotOanda.ipynb#X12sZmlsZQ%3D%3D?line=8'>9</a>\u001b[0m candles \u001b[39m=\u001b[39m get_candles(\u001b[39m3\u001b[39;49m)\n\u001b[1;32m     <a href='vscode-notebook-cell:/home/ha/Downloads/programs/jupyter/TradingBotOanda.ipynb#X12sZmlsZQ%3D%3D?line=9'>10</a>\u001b[0m \u001b[39mfor\u001b[39;00m candle \u001b[39min\u001b[39;00m candles:\n\u001b[1;32m     <a href='vscode-notebook-cell:/home/ha/Downloads/programs/jupyter/TradingBotOanda.ipynb#X12sZmlsZQ%3D%3D?line=10'>11</a>\u001b[0m     \u001b[39mprint\u001b[39m(\u001b[39mfloat\u001b[39m(\u001b[39mstr\u001b[39m(candle\u001b[39m.\u001b[39mbid\u001b[39m.\u001b[39mo))\u001b[39m>\u001b[39m\u001b[39m1\u001b[39m)\n",
      "\u001b[1;32m/home/ha/Downloads/programs/jupyter/TradingBotOanda.ipynb Cell 10\u001b[0m line \u001b[0;36m6\n\u001b[1;32m      <a href='vscode-notebook-cell:/home/ha/Downloads/programs/jupyter/TradingBotOanda.ipynb#X12sZmlsZQ%3D%3D?line=3'>4</a>\u001b[0m client \u001b[39m=\u001b[39m CandleClient(access_token, real\u001b[39m=\u001b[39m\u001b[39mFalse\u001b[39;00m)\n\u001b[1;32m      <a href='vscode-notebook-cell:/home/ha/Downloads/programs/jupyter/TradingBotOanda.ipynb#X12sZmlsZQ%3D%3D?line=4'>5</a>\u001b[0m collector \u001b[39m=\u001b[39m client\u001b[39m.\u001b[39mget_collector(Pair\u001b[39m.\u001b[39mEUR_USD, Gran\u001b[39m.\u001b[39mM15)\n\u001b[0;32m----> <a href='vscode-notebook-cell:/home/ha/Downloads/programs/jupyter/TradingBotOanda.ipynb#X12sZmlsZQ%3D%3D?line=5'>6</a>\u001b[0m candles \u001b[39m=\u001b[39m collector\u001b[39m.\u001b[39;49mgrab(n)\n\u001b[1;32m      <a href='vscode-notebook-cell:/home/ha/Downloads/programs/jupyter/TradingBotOanda.ipynb#X12sZmlsZQ%3D%3D?line=6'>7</a>\u001b[0m \u001b[39mreturn\u001b[39;00m candles\n",
      "File \u001b[0;32m/usr/local/lib/python3.10/dist-packages/oanda_candles/candle_collector.py:43\u001b[0m, in \u001b[0;36mCandleCollector.grab\u001b[0;34m(self, count)\u001b[0m\n\u001b[1;32m     41\u001b[0m \u001b[39mdef\u001b[39;00m \u001b[39mgrab\u001b[39m(\u001b[39mself\u001b[39m, count: \u001b[39mint\u001b[39m) \u001b[39m-\u001b[39m\u001b[39m>\u001b[39m List[Candle]:\n\u001b[1;32m     42\u001b[0m     \u001b[39mif\u001b[39;00m \u001b[39mnot\u001b[39;00m \u001b[39mself\u001b[39m\u001b[39m.\u001b[39m_cache \u001b[39mand\u001b[39;00m count \u001b[39m<\u001b[39m\u001b[39m=\u001b[39m \u001b[39m5000\u001b[39m:\n\u001b[0;32m---> 43\u001b[0m         \u001b[39mself\u001b[39m\u001b[39m.\u001b[39m_cache \u001b[39m=\u001b[39m \u001b[39mself\u001b[39;49m\u001b[39m.\u001b[39;49mrequester\u001b[39m.\u001b[39;49mget(count)\n\u001b[1;32m     44\u001b[0m         \u001b[39mself\u001b[39m\u001b[39m.\u001b[39mlast_update \u001b[39m=\u001b[39m monotonic()\n\u001b[1;32m     45\u001b[0m     \u001b[39mself\u001b[39m\u001b[39m.\u001b[39mupdate_recent()\n",
      "File \u001b[0;32m/usr/local/lib/python3.10/dist-packages/oanda_candles/candle_requester.py:39\u001b[0m, in \u001b[0;36mCandleRequester.get\u001b[0;34m(self, count)\u001b[0m\n\u001b[1;32m     37\u001b[0m \u001b[39m\u001b[39m\u001b[39m\"\"\"Request the most recent count candles.\"\"\"\u001b[39;00m\n\u001b[1;32m     38\u001b[0m \u001b[39mif\u001b[39;00m count \u001b[39m<\u001b[39m \u001b[39m5000\u001b[39m:\n\u001b[0;32m---> 39\u001b[0m     \u001b[39mreturn\u001b[39;00m \u001b[39mself\u001b[39;49m\u001b[39m.\u001b[39;49m_request(count\u001b[39m=\u001b[39;49mcount)\n\u001b[1;32m     40\u001b[0m candles \u001b[39m=\u001b[39m \u001b[39mself\u001b[39m\u001b[39m.\u001b[39m_request(count\u001b[39m=\u001b[39m\u001b[39m2000\u001b[39m)\n\u001b[1;32m     41\u001b[0m \u001b[39mif\u001b[39;00m \u001b[39mlen\u001b[39m(candles) \u001b[39m>\u001b[39m\u001b[39m=\u001b[39m \u001b[39m2000\u001b[39m:\n",
      "File \u001b[0;32m/usr/local/lib/python3.10/dist-packages/oanda_candles/candle_requester.py:111\u001b[0m, in \u001b[0;36mCandleRequester._request\u001b[0;34m(self, count, before, after)\u001b[0m\n\u001b[1;32m    109\u001b[0m     params[\u001b[39m\"\u001b[39m\u001b[39mto\u001b[39m\u001b[39m\"\u001b[39m] \u001b[39m=\u001b[39m before\n\u001b[1;32m    110\u001b[0m response \u001b[39m=\u001b[39m \u001b[39mself\u001b[39m\u001b[39m.\u001b[39msession\u001b[39m.\u001b[39mget(\u001b[39mself\u001b[39m\u001b[39m.\u001b[39murl, headers\u001b[39m=\u001b[39m\u001b[39mself\u001b[39m\u001b[39m.\u001b[39mheaders, params\u001b[39m=\u001b[39mparams)\n\u001b[0;32m--> 111\u001b[0m response\u001b[39m.\u001b[39;49mraise_for_status()\n\u001b[1;32m    112\u001b[0m data \u001b[39m=\u001b[39m response\u001b[39m.\u001b[39mjson()\n\u001b[1;32m    113\u001b[0m \u001b[39mreturn\u001b[39;00m [Candle\u001b[39m.\u001b[39mfrom_oanda(_) \u001b[39mfor\u001b[39;00m _ \u001b[39min\u001b[39;00m data[\u001b[39m\"\u001b[39m\u001b[39mcandles\u001b[39m\u001b[39m\"\u001b[39m]]\n",
      "File \u001b[0;32m/usr/local/lib/python3.10/dist-packages/requests/models.py:1021\u001b[0m, in \u001b[0;36mResponse.raise_for_status\u001b[0;34m(self)\u001b[0m\n\u001b[1;32m   1016\u001b[0m     http_error_msg \u001b[39m=\u001b[39m (\n\u001b[1;32m   1017\u001b[0m         \u001b[39mf\u001b[39m\u001b[39m\"\u001b[39m\u001b[39m{\u001b[39;00m\u001b[39mself\u001b[39m\u001b[39m.\u001b[39mstatus_code\u001b[39m}\u001b[39;00m\u001b[39m Server Error: \u001b[39m\u001b[39m{\u001b[39;00mreason\u001b[39m}\u001b[39;00m\u001b[39m for url: \u001b[39m\u001b[39m{\u001b[39;00m\u001b[39mself\u001b[39m\u001b[39m.\u001b[39murl\u001b[39m}\u001b[39;00m\u001b[39m\"\u001b[39m\n\u001b[1;32m   1018\u001b[0m     )\n\u001b[1;32m   1020\u001b[0m \u001b[39mif\u001b[39;00m http_error_msg:\n\u001b[0;32m-> 1021\u001b[0m     \u001b[39mraise\u001b[39;00m HTTPError(http_error_msg, response\u001b[39m=\u001b[39m\u001b[39mself\u001b[39m)\n",
      "\u001b[0;31mHTTPError\u001b[0m: 401 Client Error: Unauthorized for url: https://api-fxpractice.oanda.com/v3/instruments/EUR_USD/candles?alignmentTimezone=Etc%2FGMT%2B1&dailyAlignment=23&granularity=M15&price=BAM&weeklyAlignment=Sunday&count=3"
     ]
    }
   ],
   "source": [
    "# from config import access_token, accountID\n",
    "def get_candles(n):\n",
    "    access_token='12345678900987654321-abc34135acde13f13530'#you need token here generated from OANDA account\n",
    "    client = CandleClient(access_token, real=False)\n",
    "    collector = client.get_collector(Pair.EUR_USD, Gran.M15)\n",
    "    candles = collector.grab(n)\n",
    "    return candles\n",
    "\n",
    "candles = get_candles(3)\n",
    "for candle in candles:\n",
    "    print(float(str(candle.bid.o))>1)\n"
   ]
  },
  {
   "cell_type": "code",
   "execution_count": 16,
   "metadata": {},
   "outputs": [],
   "source": [
    "def trading_job():\n",
    "    candles = get_candles(3)\n",
    "    dfstream = pd.DataFrame(columns=['Open','Close','High','Low'])\n",
    "    \n",
    "    i=0\n",
    "    for candle in candles:\n",
    "        dfstream.loc[i, ['Open']] = float(str(candle.bid.o))\n",
    "        dfstream.loc[i, ['Close']] = float(str(candle.bid.c))\n",
    "        dfstream.loc[i, ['High']] = float(str(candle.bid.h))\n",
    "        dfstream.loc[i, ['Low']] = float(str(candle.bid.l))\n",
    "        i=i+1\n",
    "\n",
    "    dfstream['Open'] = dfstream['Open'].astype(float)\n",
    "    dfstream['Close'] = dfstream['Close'].astype(float)\n",
    "    dfstream['High'] = dfstream['High'].astype(float)\n",
    "    dfstream['Low'] = dfstream['Low'].astype(float)\n",
    "\n",
    "    signal = signal_generator(dfstream.iloc[:-1,:])#\n",
    "    \n",
    "    # EXECUTING ORDERS\n",
    "    #accountID = \"XXXXXXX\" #your account ID here\n",
    "    client = API(access_token)\n",
    "         \n",
    "    SLTPRatio = 2.\n",
    "    previous_candleR = abs(dfstream['High'].iloc[-2]-dfstream['Low'].iloc[-2])\n",
    "    \n",
    "    SLBuy = float(str(candle.bid.o))-previous_candleR\n",
    "    SLSell = float(str(candle.bid.o))+previous_candleR\n",
    "\n",
    "    TPBuy = float(str(candle.bid.o))+previous_candleR*SLTPRatio\n",
    "    TPSell = float(str(candle.bid.o))-previous_candleR*SLTPRatio\n",
    "    \n",
    "    print(dfstream.iloc[:-1,:])\n",
    "    print(TPBuy, \"  \", SLBuy, \"  \", TPSell, \"  \", SLSell)\n",
    "    signal = 2\n",
    "    #Sell\n",
    "    if signal == 1:\n",
    "        mo = MarketOrderRequest(instrument=\"EUR_USD\", units=-1000, takeProfitOnFill=TakeProfitDetails(price=TPSell).data, stopLossOnFill=StopLossDetails(price=SLSell).data)\n",
    "        r = orders.OrderCreate(accountID, data=mo.data)\n",
    "        rv = client.request(r)\n",
    "        print(rv)\n",
    "    #Buy\n",
    "    elif signal == 2:\n",
    "        mo = MarketOrderRequest(instrument=\"EUR_USD\", units=1000, takeProfitOnFill=TakeProfitDetails(price=TPBuy).data, stopLossOnFill=StopLossDetails(price=SLBuy).data)\n",
    "        r = orders.OrderCreate(accountID, data=mo.data)\n",
    "        rv = client.request(r)\n",
    "        print(rv)"
   ]
  },
  {
   "cell_type": "markdown",
   "metadata": {},
   "source": [
    "### 4 - Executing orders automatically with a scheduler"
   ]
  },
  {
   "cell_type": "code",
   "execution_count": 17,
   "metadata": {},
   "outputs": [
    {
     "ename": "NameError",
     "evalue": "name 'get_candles' is not defined",
     "output_type": "error",
     "traceback": [
      "\u001b[0;31m---------------------------------------------------------------------------\u001b[0m",
      "\u001b[0;31mNameError\u001b[0m                                 Traceback (most recent call last)",
      "\u001b[1;32m/home/ha/Downloads/programs/jupyter/TradingBotOanda.ipynb Cell 13\u001b[0m line \u001b[0;36m1\n\u001b[0;32m----> <a href='vscode-notebook-cell:/home/ha/Downloads/programs/jupyter/TradingBotOanda.ipynb#X15sZmlsZQ%3D%3D?line=0'>1</a>\u001b[0m trading_job()\n\u001b[1;32m      <a href='vscode-notebook-cell:/home/ha/Downloads/programs/jupyter/TradingBotOanda.ipynb#X15sZmlsZQ%3D%3D?line=2'>3</a>\u001b[0m \u001b[39m#scheduler = BlockingScheduler()\u001b[39;00m\n\u001b[1;32m      <a href='vscode-notebook-cell:/home/ha/Downloads/programs/jupyter/TradingBotOanda.ipynb#X15sZmlsZQ%3D%3D?line=3'>4</a>\u001b[0m \u001b[39m#scheduler.add_job(trading_job, 'cron', day_of_week='mon-fri', hour='00-23', minute='1,16,31,46', start_date='2022-01-12 12:00:00', timezone='America/Chicago')\u001b[39;00m\n\u001b[1;32m      <a href='vscode-notebook-cell:/home/ha/Downloads/programs/jupyter/TradingBotOanda.ipynb#X15sZmlsZQ%3D%3D?line=4'>5</a>\u001b[0m \u001b[39m#scheduler.start()\u001b[39;00m\n",
      "\u001b[1;32m/home/ha/Downloads/programs/jupyter/TradingBotOanda.ipynb Cell 13\u001b[0m line \u001b[0;36m2\n\u001b[1;32m      <a href='vscode-notebook-cell:/home/ha/Downloads/programs/jupyter/TradingBotOanda.ipynb#X15sZmlsZQ%3D%3D?line=0'>1</a>\u001b[0m \u001b[39mdef\u001b[39;00m \u001b[39mtrading_job\u001b[39m():\n\u001b[0;32m----> <a href='vscode-notebook-cell:/home/ha/Downloads/programs/jupyter/TradingBotOanda.ipynb#X15sZmlsZQ%3D%3D?line=1'>2</a>\u001b[0m     candles \u001b[39m=\u001b[39m get_candles(\u001b[39m3\u001b[39m)\n\u001b[1;32m      <a href='vscode-notebook-cell:/home/ha/Downloads/programs/jupyter/TradingBotOanda.ipynb#X15sZmlsZQ%3D%3D?line=2'>3</a>\u001b[0m     dfstream \u001b[39m=\u001b[39m pd\u001b[39m.\u001b[39mDataFrame(columns\u001b[39m=\u001b[39m[\u001b[39m'\u001b[39m\u001b[39mOpen\u001b[39m\u001b[39m'\u001b[39m,\u001b[39m'\u001b[39m\u001b[39mClose\u001b[39m\u001b[39m'\u001b[39m,\u001b[39m'\u001b[39m\u001b[39mHigh\u001b[39m\u001b[39m'\u001b[39m,\u001b[39m'\u001b[39m\u001b[39mLow\u001b[39m\u001b[39m'\u001b[39m])\n\u001b[1;32m      <a href='vscode-notebook-cell:/home/ha/Downloads/programs/jupyter/TradingBotOanda.ipynb#X15sZmlsZQ%3D%3D?line=4'>5</a>\u001b[0m     i\u001b[39m=\u001b[39m\u001b[39m0\u001b[39m\n",
      "\u001b[0;31mNameError\u001b[0m: name 'get_candles' is not defined"
     ]
    }
   ],
   "source": [
    "trading_job()\n",
    "\n",
    "#scheduler = BlockingScheduler()\n",
    "#scheduler.add_job(trading_job, 'cron', day_of_week='mon-fri', hour='00-23', minute='1,16,31,46', start_date='2022-01-12 12:00:00', timezone='America/Chicago')\n",
    "#scheduler.start()"
   ]
  },
  {
   "cell_type": "code",
   "execution_count": null,
   "metadata": {},
   "outputs": [],
   "source": []
  }
 ],
 "metadata": {
  "kernelspec": {
   "display_name": "Python 3 (ipykernel)",
   "language": "python",
   "name": "python3"
  },
  "language_info": {
   "codemirror_mode": {
    "name": "ipython",
    "version": 3
   },
   "file_extension": ".py",
   "mimetype": "text/x-python",
   "name": "python",
   "nbconvert_exporter": "python",
   "pygments_lexer": "ipython3",
   "version": "3.10.12"
  },
  "vscode": {
   "interpreter": {
    "hash": "c0ff92a541b5eb8a0f75470c34280cf0dea79e8b819847822bd36e33345fddf3"
   }
  }
 },
 "nbformat": 4,
 "nbformat_minor": 4
}
